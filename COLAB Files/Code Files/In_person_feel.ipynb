{
  "nbformat": 4,
  "nbformat_minor": 0,
  "metadata": {
    "colab": {
      "provenance": []
    },
    "kernelspec": {
      "name": "python3",
      "display_name": "Python 3"
    },
    "language_info": {
      "name": "python"
    }
  },
  "cells": [
    {
      "cell_type": "code",
      "execution_count": null,
      "metadata": {
        "colab": {
          "base_uri": "https://localhost:8080/"
        },
        "id": "JYY8RytqmKDY",
        "outputId": "b5cc1c36-2752-4414-8565-a006f4fca341"
      },
      "outputs": [
        {
          "output_type": "stream",
          "name": "stdout",
          "text": [
            "Mounted at /content/drive\n"
          ]
        }
      ],
      "source": [
        "from google.colab import drive\n",
        "drive.mount('/content/drive')"
      ]
    },
    {
      "cell_type": "code",
      "source": [
        "import pandas as pd\n",
        "import numpy as np\n",
        "from sklearn.model_selection import train_test_split\n",
        "from sklearn.preprocessing import MinMaxScaler\n",
        "from sklearn.ensemble import GradientBoostingRegressor\n",
        "from sklearn.metrics import mean_absolute_error, r2_score\n"
      ],
      "metadata": {
        "id": "JHrc89K1mo7a"
      },
      "execution_count": null,
      "outputs": []
    },
    {
      "cell_type": "code",
      "source": [
        "df=pd.read_csv(\"/content/drive/MyDrive/Colab Notebooks/dyfi_earthquake_data.csv\")\n",
        "print(df.head())"
      ],
      "metadata": {
        "colab": {
          "base_uri": "https://localhost:8080/"
        },
        "id": "vZxBgq5vmmW-",
        "outputId": "cc6dde7f-107d-4314-8685-1cb9e6a5f947"
      },
      "execution_count": null,
      "outputs": [
        {
          "output_type": "stream",
          "name": "stdout",
          "text": [
            "                       time   latitude   longitude  depth   mag magType   nst  \\\n",
            "0  2025-01-17T08:55:51.812Z   8.424500  125.994900  10.00  5.00      mb  44.0   \n",
            "1  2025-01-17T08:16:10.130Z  37.361168 -121.717499   8.24  2.78      md  79.0   \n",
            "2  2025-01-17T04:07:30.060Z  40.292667 -124.461502  19.50  2.78      md  24.0   \n",
            "3  2025-01-17T01:51:09.250Z  42.189500 -124.380000  -0.58  2.21      ml  16.0   \n",
            "4  2025-01-17T01:46:17.623Z   9.403000   40.070400  10.00  4.70      mb  39.0   \n",
            "\n",
            "     gap     dmin   rms  ...                   updated  \\\n",
            "0  113.0  1.40800  1.05  ...  2025-01-17T09:59:42.345Z   \n",
            "1   29.0  0.10800  0.09  ...  2025-01-17T09:32:18.040Z   \n",
            "2  258.0  0.09106  0.08  ...  2025-01-17T04:32:15.491Z   \n",
            "3  205.0  0.04854  0.23  ...  2025-01-17T03:58:41.101Z   \n",
            "4  138.0  6.64100  0.63  ...  2025-01-17T09:44:38.530Z   \n",
            "\n",
            "                                place        type horizontalError depthError  \\\n",
            "0  1 km ENE of Lapinigan, Philippines  earthquake           10.16      1.845   \n",
            "1          10 km ESE of Alum Rock, CA  earthquake            0.13      0.500   \n",
            "2             15 km W of Petrolia, CA  earthquake            1.23      0.320   \n",
            "3      9 km S of Pistol River, Oregon  earthquake            0.60      0.460   \n",
            "4        47 km NNW of Āwash, Ethiopia  earthquake           13.93      1.956   \n",
            "\n",
            "   magError  magNst     status  locationSource magSource  \n",
            "0  0.081000    49.0   reviewed              us        us  \n",
            "1  0.120000   118.0  automatic              nc        nc  \n",
            "2  0.090000    25.0  automatic              nc        nc  \n",
            "3  0.169539    14.0   reviewed              uw        uw  \n",
            "4  0.093000    35.0   reviewed              us        us  \n",
            "\n",
            "[5 rows x 22 columns]\n"
          ]
        }
      ]
    },
    {
      "cell_type": "code",
      "source": [
        "required_columns = ['latitude', 'longitude', 'depth', 'mag', 'nst', 'gap', 'dmin', 'rms']\n",
        "df = df[required_columns].dropna()\n",
        "df['feel_percentage'] = np.clip(10 * (df['mag'] - 3), 0, 100)\n",
        "\n",
        "print(df.head())"
      ],
      "metadata": {
        "colab": {
          "base_uri": "https://localhost:8080/"
        },
        "id": "OV3sJz58m1sl",
        "outputId": "e2f81cd3-ac01-4ad9-88c5-c46a60a0b4eb"
      },
      "execution_count": null,
      "outputs": [
        {
          "output_type": "stream",
          "name": "stdout",
          "text": [
            "    latitude   longitude  depth   mag   nst    gap     dmin   rms  \\\n",
            "0   8.424500  125.994900  10.00  5.00  44.0  113.0  1.40800  1.05   \n",
            "1  37.361168 -121.717499   8.24  2.78  79.0   29.0  0.10800  0.09   \n",
            "2  40.292667 -124.461502  19.50  2.78  24.0  258.0  0.09106  0.08   \n",
            "3  42.189500 -124.380000  -0.58  2.21  16.0  205.0  0.04854  0.23   \n",
            "4   9.403000   40.070400  10.00  4.70  39.0  138.0  6.64100  0.63   \n",
            "\n",
            "   feel_percentage  \n",
            "0             20.0  \n",
            "1              0.0  \n",
            "2              0.0  \n",
            "3              0.0  \n",
            "4             17.0  \n"
          ]
        }
      ]
    },
    {
      "cell_type": "code",
      "source": [
        "X = df[['latitude', 'longitude', 'depth', 'nst', 'gap', 'dmin', 'rms']].values\n",
        "y = df['feel_percentage'].values\n",
        "\n",
        "scaler = MinMaxScaler()\n",
        "X_norm = scaler.fit_transform(X)\n",
        "\n",
        "X_train, X_test, y_train, y_test = train_test_split(X_norm, y, test_size=0.2, random_state=42)\n",
        "\n",
        "print(\"Data split complete. Ready for training.\")\n"
      ],
      "metadata": {
        "colab": {
          "base_uri": "https://localhost:8080/"
        },
        "id": "epQZVq5Bm7re",
        "outputId": "5bc2634f-568a-4085-b1e3-66f43284db7a"
      },
      "execution_count": null,
      "outputs": [
        {
          "output_type": "stream",
          "name": "stdout",
          "text": [
            "Data split complete. Ready for training.\n"
          ]
        }
      ]
    },
    {
      "cell_type": "code",
      "source": [
        "gb_model = GradientBoostingRegressor(n_estimators=100, random_state=42)\n",
        "gb_model.fit(X_train, y_train)\n",
        "\n",
        "y_pred = gb_model.predict(X_test)\n",
        "mae = mean_absolute_error(y_test, y_pred)\n",
        "r2 = r2_score(y_test, y_pred)\n",
        "\n",
        "print(\"Model Performance:\")\n",
        "print(f\"Mean Absolute Error: {mae:.2f}\")\n",
        "print(f\"R² Score: {r2:.2f}\")\n"
      ],
      "metadata": {
        "colab": {
          "base_uri": "https://localhost:8080/"
        },
        "id": "Ips5Bqd2nDkP",
        "outputId": "356c0f2b-267b-460d-a85e-324bae1ee37a"
      },
      "execution_count": null,
      "outputs": [
        {
          "output_type": "stream",
          "name": "stdout",
          "text": [
            "Model Performance:\n",
            "Mean Absolute Error: 1.67\n",
            "R² Score: 0.89\n"
          ]
        }
      ]
    },
    {
      "cell_type": "code",
      "source": [
        "lat = float(input(\"Enter Latitude (.....): \"))\n",
        "lon = float(input(\"Enter Longitude (.....): \"))\n",
        "depth = float(input(\"Enter Depth (km): \"))\n",
        "\n",
        "nst_avg = df['nst'].mean()\n",
        "gap_avg = df['gap'].mean()\n",
        "dmin_avg = df['dmin'].mean()\n",
        "rms_avg = df['rms'].mean()\n",
        "\n",
        "InputX = np.array([[lat, lon, depth, nst_avg, gap_avg, dmin_avg, rms_avg]])\n",
        "InputX_norm = scaler.transform(InputX)\n",
        "\n",
        "predicted_feel = gb_model.predict(InputX_norm)\n",
        "print(f\"Predicted 'In-Person Feel Percentage': {predicted_feel[0]:.2f}%\")\n"
      ],
      "metadata": {
        "colab": {
          "base_uri": "https://localhost:8080/"
        },
        "id": "xMv3e6WEnJlW",
        "outputId": "770bda30-1ebc-4eb3-c301-b13ef676832c"
      },
      "execution_count": null,
      "outputs": [
        {
          "output_type": "stream",
          "name": "stdout",
          "text": [
            "Enter Latitude (.....): 8.425\n",
            "Enter Longitude (.....): 125.995\n",
            "Enter Depth (km): 10\n",
            "Predicted 'In-Person Feel Percentage': 16.59%\n"
          ]
        }
      ]
    },
    {
      "cell_type": "code",
      "source": [],
      "metadata": {
        "id": "15opO9EDnLUi"
      },
      "execution_count": null,
      "outputs": []
    },
    {
      "cell_type": "code",
      "source": [
        "import numpy as np\n",
        "def get_coefficients(lat, lon):\n",
        "    if 24 <= lat <= 46 and 122 <= lon <= 153:\n",
        "        return 1.6, 0.6, 0.02\n",
        "    elif -10 <= lat <= 10 and 100 <= lon <= 120:\n",
        "        return 1.2, 0.8, 0.03\n",
        "    elif 20 <= lat <= 40 and 60 <= lon <= 80:\n",
        "        return 1.3, 0.75, 0.025\n",
        "    elif 30 <= lat <= 50 and -130 <= lon <= -100:\n",
        "        return 1.5, 0.7, 0.02\n",
        "    elif 10 <= lat <= 40 and -100 <= lon <= -80:\n",
        "        return 1.4, 0.65, 0.025\n",
        "    elif -60 <= lat <= -10 and -80 <= lon <= -30:\n",
        "        return 1.5, 0.6, 0.03\n",
        "    elif -40 <= lat <= -10 and 110 <= lon <= 155:\n",
        "        return 1.3, 0.7, 0.02\n",
        "    elif -35 <= lat <= -15 and 15 <= lon <= 35:\n",
        "        return 1.4, 0.8, 0.035\n",
        "    elif 35 <= lat <= 55 and -10 <= lon <= 40:\n",
        "        return 1.2, 0.85, 0.03\n",
        "    elif 55 <= lat <= 75 and -170 <= lon <= -50:\n",
        "        return 1.1, 0.9, 0.04\n",
        "    elif -75 <= lat <= -60 and -180 <= lon <= 180:\n",
        "        return 1.0, 0.95, 0.05\n",
        "    else:\n",
        "        return 1.2, 0.8, 0.03\n",
        "\n",
        "\n",
        "def calculate_mmi(lat, lon, depth, magnitude):\n",
        "    a, b, c = get_coefficients(lat, lon)\n",
        "    d = 1.5\n",
        "    mmi = a * magnitude - b * np.log10(1) - c * depth + d\n",
        "    return np.clip(mmi, 1, 12)\n",
        "\n",
        "\n",
        "def predict_in_person_feel(mmi):\n",
        "    if mmi < 3:\n",
        "        return 0.0\n",
        "    elif 3 <= mmi < 5:\n",
        "        return 30.0\n",
        "    elif 5 <= mmi < 7:\n",
        "        return 70.0\n",
        "    elif 7 <= mmi < 9:\n",
        "        return 90.0\n",
        "    else:\n",
        "        return 99.0\n",
        "\n",
        "\n",
        "lat = float(input(\"Enter Latitude: \"))\n",
        "lon = float(input(\"Enter Longitude: \"))\n",
        "depth = float(input(\"Enter Depth (km): \"))\n",
        "magnitude = float(input(\"Enter Magnitude: \"))\n",
        "\n",
        "\n",
        "mmi = calculate_mmi(lat, lon, depth, magnitude)\n",
        "in_person_feel = predict_in_person_feel(mmi)\n",
        "\n",
        "\n",
        "print(f\"\\nCalculated MMI: {mmi:.2f}\")\n",
        "print(f\"Predicted In-Person Feel: {in_person_feel:.1f}%\")\n"
      ],
      "metadata": {
        "colab": {
          "base_uri": "https://localhost:8080/"
        },
        "id": "NTS0sletnPMK",
        "outputId": "e9acb3e3-99db-4bd4-8375-8f96f2ab48ef"
      },
      "execution_count": null,
      "outputs": [
        {
          "output_type": "stream",
          "name": "stdout",
          "text": [
            "Enter Latitude: 30\n",
            "Enter Longitude: 30\n",
            "Enter Depth (km): 30\n",
            "Enter Magnitude: 1\n",
            "\n",
            "Calculated MMI: 1.80\n",
            "Predicted In-Person Feel: 0.0%\n"
          ]
        }
      ]
    },
    {
      "cell_type": "code",
      "source": [],
      "metadata": {
        "id": "HihyPF7srzVw"
      },
      "execution_count": null,
      "outputs": []
    }
  ]
}